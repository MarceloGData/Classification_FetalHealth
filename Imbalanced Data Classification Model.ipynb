{
 "cells": [
  {
   "cell_type": "markdown",
   "id": "3c1bc863",
   "metadata": {},
   "source": [
    "# Imbalanced Data Classification Model"
   ]
  },
  {
   "cell_type": "markdown",
   "id": "d3adb29d",
   "metadata": {},
   "source": [
    "Reduction of child mortality is reflected in several of the United Nations' Sustainable Development Goals and is a key indicator of human progress. There is a simple and low cost strategy to assess fetal health based on Cardiotocograms (CTGs), and therefore prevent child and maternal mortality. The process reiles on sending ultrasound pulses and reading its results.\n",
    "\n",
    "The dataset itself contains 2126 observations, 21 features and one label column, which is the fetal_health, a categorical column that indicates whether the fetus is Normal (1), Suspect (2) or Pathological (3)."
   ]
  },
  {
   "cell_type": "code",
   "execution_count": 1,
   "id": "6b7c2fe6",
   "metadata": {},
   "outputs": [],
   "source": []
  },
  {
   "cell_type": "code",
   "execution_count": null,
   "id": "4d8152e5",
   "metadata": {},
   "outputs": [],
   "source": []
  }
 ],
 "metadata": {
  "kernelspec": {
   "display_name": "Python 3 (ipykernel)",
   "language": "python",
   "name": "python3"
  },
  "language_info": {
   "codemirror_mode": {
    "name": "ipython",
    "version": 3
   },
   "file_extension": ".py",
   "mimetype": "text/x-python",
   "name": "python",
   "nbconvert_exporter": "python",
   "pygments_lexer": "ipython3",
   "version": "3.9.12"
  }
 },
 "nbformat": 4,
 "nbformat_minor": 5
}
